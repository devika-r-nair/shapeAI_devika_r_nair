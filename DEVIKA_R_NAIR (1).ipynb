{
  "nbformat": 4,
  "nbformat_minor": 0,
  "metadata": {
    "colab": {
      "name": "DEVIKA.R.NAIR",
      "provenance": []
    },
    "kernelspec": {
      "name": "python3",
      "display_name": "Python 3"
    },
    "language_info": {
      "name": "python"
    }
  },
  "cells": [
    {
      "cell_type": "code",
      "metadata": {
        "id": "7LR67nwxbdnc"
      },
      "source": [
        "from keras.datasets import mnist\n",
        "data=mnist.load_data()\n",
        "((x_train,y_train),(x_test,y_test))=data\n",
        "x_train=x_train.reshape((x_train.shape[0],28*28)).astype('float32')\n",
        "x_test=x_test.reshape((x_test.shape[0],28*28)).astype('float32')\n",
        "x-train=x_train/225\n",
        "x_test=x_test/225\n",
        "from keras.utils import np_utils\n",
        "print(y_test.shape)\n",
        "y_train-np_utils.to_categorical(y_train)\n",
        "y_test=np_utils.to_categorical(y_test)\n",
        "num_classes=y_test.shape[1]\n",
        "print(y_test.shape)\n",
        "from keras.models import sequential\n",
        "from keras.layers import dense\n",
        "model-sequential()\n",
        "model.add(Dense(32,input_dim=28*28,activation='relu'))\n",
        "model.add(Dense(64,activation='relu'))\n",
        "model.add(Dense(10,activation='softmax'))\n",
        "model.compile(loss='categorical_crossentropy',optimizer='adam',metrics=['accuracy'])\n",
        "model.summary()\n",
        "model.fit(x_train,y_train, epochs=10,batch_size=100)\n",
        "scores=model.evaluate(x_test,y_test)\n",
        "print(scores)\n",
        "\n"
      ],
      "execution_count": null,
      "outputs": []
    }
  ]
}